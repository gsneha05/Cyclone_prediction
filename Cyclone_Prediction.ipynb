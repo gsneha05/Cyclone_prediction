{
 "cells": [
  {
   "cell_type": "code",
   "execution_count": null,
   "metadata": {
    "id": "KIkiEfIU3rpL"
   },
   "outputs": [],
   "source": [
    "Project Theme: Climate Risk & Disaster Management\n",
    "\n",
    "Project Title: Cyclone Prediction For Disaster Management\n",
    "\n",
    "Problem Statement: Cyclones are one of the most destructive natural disasters, causing widespread damage to life, property, and coastal ecosystems. Accurate early prediction of cyclone\n",
    "formation is crucial for effective disaster preparedness and risk management and thus this project aims to develop a machine learning model that predicts the likelihood of cyclone\n",
    "occurrence based on environmental factors.\n",
    "\n",
    "Description:To develop a machine learning model that predicts the likelihood of cyclone occurrence based on environmental factors such as sea surface temperature,\n",
    "atmospheric pressure, humidity, wind shear, vorticity, and proximity to coastlines. By leveraging data-driven insights, the model can assist governments,\n",
    "disaster management authorities, and communities in issuing timely warnings and reducing the adverse impacts of cyclones."
   ]
  },
  {
   "cell_type": "code",
   "execution_count": 3,
   "metadata": {
    "executionInfo": {
     "elapsed": 21,
     "status": "ok",
     "timestamp": 1756540106112,
     "user": {
      "displayName": "Gadde Sai Neha",
      "userId": "05587491552843576793"
     },
     "user_tz": -330
    },
    "id": "D7U0aFErQZVj"
   },
   "outputs": [],
   "source": [
    "# 1. Import necessary libraries\n",
    "import pandas as pd\n",
    "import numpy as np\n",
    "\n",
    "\n",
    "\n",
    "\n",
    "\n",
    "\n"
   ]
  },
  {
   "cell_type": "code",
   "execution_count": 4,
   "metadata": {
    "executionInfo": {
     "elapsed": 110,
     "status": "ok",
     "timestamp": 1756540110261,
     "user": {
      "displayName": "Gadde Sai Neha",
      "userId": "05587491552843576793"
     },
     "user_tz": -330
    },
    "id": "OGsIGeq_8K2u"
   },
   "outputs": [],
   "source": [
    "# 2. Load the dataset\n",
    "\n",
    "df = pd.read_csv(\"cyclone_dataset.csv\")"
   ]
  },
  {
   "cell_type": "code",
   "execution_count": 5,
   "metadata": {
    "colab": {
     "base_uri": "https://localhost:8080/"
    },
    "executionInfo": {
     "elapsed": 21,
     "status": "ok",
     "timestamp": 1756540118098,
     "user": {
      "displayName": "Gadde Sai Neha",
      "userId": "05587491552843576793"
     },
     "user_tz": -330
    },
    "id": "QZCmenDp8Sui",
    "outputId": "1e1c8bf0-c374-4f3f-975e-285d15eefc11"
   },
   "outputs": [
    {
     "name": "stdout",
     "output_type": "stream",
     "text": [
      "Dataset Info:\n",
      "<class 'pandas.core.frame.DataFrame'>\n",
      "RangeIndex: 2000 entries, 0 to 1999\n",
      "Data columns (total 10 columns):\n",
      " #   Column                    Non-Null Count  Dtype  \n",
      "---  ------                    --------------  -----  \n",
      " 0   Sea_Surface_Temperature   2000 non-null   float64\n",
      " 1   Atmospheric_Pressure      2000 non-null   float64\n",
      " 2   Humidity                  2000 non-null   float64\n",
      " 3   Wind_Shear                2000 non-null   float64\n",
      " 4   Vorticity                 2000 non-null   float64\n",
      " 5   Latitude                  2000 non-null   float64\n",
      " 6   Ocean_Depth               2000 non-null   float64\n",
      " 7   Proximity_to_Coastline    2000 non-null   float64\n",
      " 8   Pre_existing_Disturbance  2000 non-null   int64  \n",
      " 9   Cyclone                   2000 non-null   int64  \n",
      "dtypes: float64(8), int64(2)\n",
      "memory usage: 156.4 KB\n",
      "None\n"
     ]
    }
   ],
   "source": [
    "# 3. Explore the dataset\n",
    "print(\"Dataset Info:\")\n",
    "print(df.info())"
   ]
  },
  {
   "cell_type": "code",
   "execution_count": 6,
   "metadata": {
    "colab": {
     "base_uri": "https://localhost:8080/"
    },
    "executionInfo": {
     "elapsed": 101,
     "status": "ok",
     "timestamp": 1756540123717,
     "user": {
      "displayName": "Gadde Sai Neha",
      "userId": "05587491552843576793"
     },
     "user_tz": -330
    },
    "id": "UVtJg-xG8ZYE",
    "outputId": "39c9304c-573b-4c54-c42c-5e0606f49099"
   },
   "outputs": [
    {
     "name": "stdout",
     "output_type": "stream",
     "text": [
      "Statistical Summary:\n",
      "       Sea_Surface_Temperature  Atmospheric_Pressure     Humidity  \\\n",
      "count              2000.000000           2000.000000  2000.000000   \n",
      "mean                 26.011795           1003.390161    67.204883   \n",
      "std                   2.695970             12.021871    17.727458   \n",
      "min                  20.014982            980.033363    30.015487   \n",
      "25%                  24.074962            994.466175    55.188218   \n",
      "50%                  26.662512           1004.708218    68.635351   \n",
      "75%                  28.049755           1012.159534    78.975341   \n",
      "max                  29.997655           1024.986477    99.955704   \n",
      "\n",
      "        Wind_Shear    Vorticity     Latitude  Ocean_Depth  \\\n",
      "count  2000.000000  2000.000000  2000.000000  2000.000000   \n",
      "mean     16.129547     0.000039    20.057002  1433.043855   \n",
      "std       6.221843     0.000026     7.528196  1524.801300   \n",
      "min       5.010753     0.000001     5.004541    50.005236   \n",
      "25%      11.413949     0.000018    15.222078   261.794807   \n",
      "50%      15.589793     0.000034    20.014008   473.034788   \n",
      "75%      19.792779     0.000051    24.909619  2557.053097   \n",
      "max      29.986702     0.000100    34.993464  4988.711471   \n",
      "\n",
      "       Proximity_to_Coastline  Pre_existing_Disturbance      Cyclone  \n",
      "count             2000.000000               2000.000000  2000.000000  \n",
      "mean                 1.245077                  0.500000     0.500000  \n",
      "std                  0.387344                  0.500125     0.500125  \n",
      "min                  0.500031                  0.000000     0.000000  \n",
      "25%                  0.983213                  0.000000     0.000000  \n",
      "50%                  1.244601                  0.500000     0.500000  \n",
      "75%                  1.498208                  1.000000     1.000000  \n",
      "max                  1.999505                  1.000000     1.000000  \n"
     ]
    }
   ],
   "source": [
    "\n",
    "print(\"Statistical Summary:\")\n",
    "print(df.describe(include='all'))"
   ]
  },
  {
   "cell_type": "code",
   "execution_count": 7,
   "metadata": {
    "colab": {
     "base_uri": "https://localhost:8080/"
    },
    "executionInfo": {
     "elapsed": 17,
     "status": "ok",
     "timestamp": 1756540128767,
     "user": {
      "displayName": "Gadde Sai Neha",
      "userId": "05587491552843576793"
     },
     "user_tz": -330
    },
    "id": "YiIyRCni8i60",
    "outputId": "ec1c08c6-3ac8-4a17-b300-112a11687dc8"
   },
   "outputs": [
    {
     "name": "stdout",
     "output_type": "stream",
     "text": [
      "Missing Values:\n",
      "Sea_Surface_Temperature     0\n",
      "Atmospheric_Pressure        0\n",
      "Humidity                    0\n",
      "Wind_Shear                  0\n",
      "Vorticity                   0\n",
      "Latitude                    0\n",
      "Ocean_Depth                 0\n",
      "Proximity_to_Coastline      0\n",
      "Pre_existing_Disturbance    0\n",
      "Cyclone                     0\n",
      "dtype: int64\n"
     ]
    }
   ],
   "source": [
    "print(\"Missing Values:\")\n",
    "print(df.isnull().sum())"
   ]
  }
 ],
 "metadata": {
  "colab": {
   "authorship_tag": "ABX9TyNZp1ynmDkc/X1Zzy04gqCV",
   "provenance": []
  },
  "kernelspec": {
   "display_name": "Python 3",
   "name": "python3"
  },
  "language_info": {
   "name": "python"
  }
 },
 "nbformat": 4,
 "nbformat_minor": 0
}
